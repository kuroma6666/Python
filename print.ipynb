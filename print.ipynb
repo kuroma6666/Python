{
 "cells": [
  {
   "cell_type": "code",
   "execution_count": null,
   "id": "27fea3dc-e83c-4930-a24c-63a059896509",
   "metadata": {},
   "outputs": [],
   "source": [
    "print(”これはJupyterLabです”)"
   ]
  },
  {
   "cell_type": "code",
   "execution_count": null,
   "id": "1bf090e6-f368-4669-9433-bc5f32bb948b",
   "metadata": {},
   "outputs": [],
   "source": [
    "print(”JetRacerはAIレースカーです”)"
   ]
  },
  {
   "cell_type": "code",
   "execution_count": 2,
   "id": "e73f71a4-9bab-404a-9cb8-ab2ad8a66c4c",
   "metadata": {},
   "outputs": [
    {
     "name": "stdout",
     "output_type": "stream",
     "text": [
      "130\n"
     ]
    }
   ],
   "source": [
    "a=100\n",
    "b=20\n",
    "c=10\n",
    "result=a+b+c\n",
    "print(result)"
   ]
  },
  {
   "cell_type": "code",
   "execution_count": null,
   "id": "024d0947-3f19-4ab2-acd7-32eb5291c91e",
   "metadata": {},
   "outputs": [],
   "source": []
  }
 ],
 "metadata": {
  "kernelspec": {
   "display_name": "Python 3",
   "language": "python",
   "name": "python3"
  },
  "language_info": {
   "codemirror_mode": {
    "name": "ipython",
    "version": 3
   },
   "file_extension": ".py",
   "mimetype": "text/x-python",
   "name": "python",
   "nbconvert_exporter": "python",
   "pygments_lexer": "ipython3",
   "version": "3.8.8"
  }
 },
 "nbformat": 4,
 "nbformat_minor": 5
}

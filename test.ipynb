{
 "cells": [
  {
   "cell_type": "markdown",
   "id": "819b6ca5",
   "metadata": {},
   "source": [
    "# Notebook構造検証"
   ]
  },
  {
   "cell_type": "code",
   "execution_count": 1,
   "id": "749f5d76",
   "metadata": {},
   "outputs": [
    {
     "name": "stdout",
     "output_type": "stream",
     "text": [
      "JetRacerというAIレースカーキットがここにある\n"
     ]
    }
   ],
   "source": [
    "print(\"JetRacerというAIレースカーキットがここにある\")"
   ]
  },
  {
   "cell_type": "code",
   "execution_count": null,
   "id": "c761ee03",
   "metadata": {},
   "outputs": [],
   "source": []
  }
 ],
 "metadata": {
  "kernelspec": {
   "display_name": "Python 3",
   "language": "python",
   "name": "python3"
  },
  "language_info": {
   "codemirror_mode": {
    "name": "ipython",
    "version": 3
   },
   "file_extension": ".py",
   "mimetype": "text/x-python",
   "name": "python",
   "nbconvert_exporter": "python",
   "pygments_lexer": "ipython3",
   "version": "3.6.9"
  }
 },
 "nbformat": 4,
 "nbformat_minor": 5
}
